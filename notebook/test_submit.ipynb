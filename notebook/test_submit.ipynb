{
 "cells": [
  {
   "cell_type": "markdown",
   "id": "8b1ab96a-a056-4d32-98d2-c8a221fb8163",
   "metadata": {},
   "source": [
    "# Import "
   ]
  },
  {
   "cell_type": "code",
   "execution_count": 26,
   "id": "ba816510-abf4-4b85-bec8-eb800c126a0c",
   "metadata": {},
   "outputs": [],
   "source": [
    "import numpy as np \n",
    "import pandas as pd\n",
    "# for local\n",
    "TRAIN_DIR = \"../data/input/train.csv\"\n",
    "TEST_DIR = \"../data/input/test.csv\"\n",
    "SUBMIT_DIR = \"../data/output/sample_submission.csv\"\n",
    "\n",
    "# for kaggle notebook\n",
    "# TRAIN_DIR = \"/kaggle/input/icr-identify-age-related-conditions/train.csv\"\n",
    "# TEST_DIR = \"/kaggle/input/icr-identify-age-related-conditions/test.csv\"\n",
    "# SUBMIT_DIR = \"/kaggle/input/icr-identify-age-related-conditions/sample_submission.csv\""
   ]
  },
  {
   "cell_type": "markdown",
   "id": "cf531504-a078-4f5f-99a5-04232899a907",
   "metadata": {},
   "source": [
    "# Loading dataset"
   ]
  },
  {
   "cell_type": "code",
   "execution_count": 15,
   "id": "bb4d8c21-b4e4-4aeb-bcba-957a2d3887f7",
   "metadata": {},
   "outputs": [],
   "source": [
    "train = pd.read_csv(TRAIN_DIR)\n",
    "test = pd.read_csv(TEST_DIR)\n",
    "\n",
    "train[\"EJ\"] = train[\"EJ\"].map({\"A\":0,\"B\":1})\n",
    "test[\"EJ\"] = test[\"EJ\"].map({\"A\":0,\"B\":1})"
   ]
  },
  {
   "cell_type": "markdown",
   "id": "f7bd3850-fcaa-40a0-aa80-05fff81992ed",
   "metadata": {},
   "source": [
    "# Impute missing data"
   ]
  },
  {
   "cell_type": "code",
   "execution_count": null,
   "id": "b371e282-9ea2-4ecf-916f-5b8bebb0521d",
   "metadata": {},
   "outputs": [],
   "source": [
    "\n",
    "\n",
    "from sklearn.impute import SimpleImputer,KNNImputer\n",
    "imputer = KNNImputer(n_neighbors=50)\n",
    "\n",
    "X = train.drop([\"Id\",\"Class\"],axis=1)\n",
    "X = imputer.fit_transform(X)\n",
    "y = train[[\"Class\"]]\n",
    "\n",
    "X_test = test.drop(\"Id\",axis=1)\n",
    "X_test = imputer.fit_transform(X_test)"
   ]
  },
  {
   "cell_type": "markdown",
   "id": "5657d36c-ac9e-4eac-a0c7-84593ac2ed5e",
   "metadata": {},
   "source": [
    "# Making model"
   ]
  },
  {
   "cell_type": "code",
   "execution_count": null,
   "id": "7fd78a75-c9d4-4c62-96b4-3aa28ca34609",
   "metadata": {},
   "outputs": [],
   "source": [
    "from lightgbm import LGBMClassifier\n",
    "from sklearn.model_selection import train_test_split,KFold,StratifiedKFold\n",
    "\n",
    "model = LGBMClassifier()\n",
    "model.fit(X,y.to_numpy().reshape(-1))\n",
    "\n",
    "pred_proba = model.predict_proba(X_test)"
   ]
  },
  {
   "cell_type": "markdown",
   "id": "7b56f8a3-3a15-4742-a895-c5f58113c43f",
   "metadata": {},
   "source": [
    "# Submission"
   ]
  },
  {
   "cell_type": "code",
   "execution_count": 27,
   "id": "8d8b3b6e-2ddb-46a5-a304-9c99ce1b00d9",
   "metadata": {},
   "outputs": [],
   "source": [
    "submit = pd.read_csv(SUBMIT_DIR)\n",
    "submit[\"class_0\"] = pred_proba[:,0]\n",
    "submit[\"class_1\"] = pred_proba[:,1]\n",
    "submit.to_csv(\"./submit.csv\",index=False)"
   ]
  }
 ],
 "metadata": {
  "kernelspec": {
   "display_name": "Python 3 (ipykernel)",
   "language": "python",
   "name": "python3"
  },
  "language_info": {
   "codemirror_mode": {
    "name": "ipython",
    "version": 3
   },
   "file_extension": ".py",
   "mimetype": "text/x-python",
   "name": "python",
   "nbconvert_exporter": "python",
   "pygments_lexer": "ipython3",
   "version": "3.10.9"
  }
 },
 "nbformat": 4,
 "nbformat_minor": 5
}
